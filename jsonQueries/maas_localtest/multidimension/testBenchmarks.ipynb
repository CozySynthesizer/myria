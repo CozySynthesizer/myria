{
 "metadata": {
  "name": "",
  "signature": "sha256:0ae5e2cc8a503ac8570da4f84c32e8185ceb32544c05ec14f2771b95101a8380"
 },
 "nbformat": 3,
 "nbformat_minor": 0,
 "worksheets": [
  {
   "cells": [
    {
     "cell_type": "code",
     "collapsed": false,
     "input": [
      "import myria  # For myria connection\n",
      "import subprocess  # For calling shell commands\n",
      "import json  # For importing JSON structures\n",
      "import os  # For resolving paths\n",
      "import time  # For getting times"
     ],
     "language": "python",
     "metadata": {},
     "outputs": [],
     "prompt_number": 43
    },
    {
     "cell_type": "code",
     "collapsed": false,
     "input": [
      "def upload_manually():\n",
      "    # Example upload of a small dataset. Not to be used for more than 10,000 tuples\n",
      "    types = ['LONG_TYPE', 'DOUBLE_TYPE', 'DOUBLE_TYPE', 'DOUBLE_TYPE', 'DOUBLE_TYPE', 'DOUBLE_TYPE']\n",
      "    headers = ['col', 'col2', 'col3', 'col4', 'col5', 'col6']\n",
      "    schema = {'columnTypes': types, 'columnNames': headers}\n",
      "    relation_key = {'userName': 'public',\n",
      "    'programName': 'test',\n",
      "    'relationName': 'testMyriaUpload'}\n",
      "    # with open (\"/Users/maas/devlocal/myria/jsonQueries/maas_localtest/rawpoints3comp.csv\", \"r\") as myfile:\n",
      "    #    data=myfile.read()\n",
      "\n",
      "    #connection.upload_file(relation_key, schema, data, overwrite=True)\n",
      "def upload_string(relation, path='/Users/maas/devlocal/myria/jsonQueries/maas_localtest/multidimension/'): \n",
      "    return \"myria_upload --hostname localhost --port 8753 --no-ssl --overwrite --relation %s %s/%s.csv\" % (relation, path, relation)"
     ],
     "language": "python",
     "metadata": {},
     "outputs": [],
     "prompt_number": 44
    },
    {
     "cell_type": "code",
     "collapsed": false,
     "input": [
      "# Create a json_query in python dictionary format\n",
      "def create_json_query(path, args=None):\n",
      "    if args is None:\n",
      "        args = tuple()\n",
      "    json_file = open(os.path.expanduser(path))\n",
      "    textdata = json_file.read() % args\n",
      "    json_file.close()\n",
      "    print \"Created query '%s'\" % (path.split(\"/\")[-1])\n",
      "    return json.loads(textdata)\n",
      "\n",
      "# Submit a query\n",
      "def submit_query(json_query):\n",
      "    try:\n",
      "        query_status = connection.submit_query(json_query)\n",
      "        #query_url = 'http://%s:%d/execute?query_id=%d' % (hostname, port, query_status['queryId'])\n",
      "        query_id = query_status['queryId']\n",
      "        #print(json.dumps(connection.get_query_status(query_id)))\n",
      "    except myria.MyriaError as e:\n",
      "        print(\"MyriaError\")\n",
      "        print(\"Couldn't submit query\")\n",
      "    return query_id\n",
      "\n",
      "# Check for completion\n",
      "def monitor_status(query_id):\n",
      "    print \"Query status:\"\n",
      "    status = connection.get_query_status(query_id)['status']\n",
      "    while status!='SUCCESS':\n",
      "        status = (connection.get_query_status(query_id))['status']\n",
      "        #print(\"\\t\" + status);\n",
      "        if status=='SUCCESS':\n",
      "            print(\"\\t\" + status);\n",
      "            break;\n",
      "        elif status=='KILLED':\n",
      "            break;\n",
      "        time.sleep(1)\n",
      "    totalElapsedTime = int((connection.get_query_status(query_id))['elapsedNanos'])\n",
      "    timeSeconds = totalElapsedTime/1000000000.0;\n",
      "    print('\\tRuntime: ' + str(timeSeconds) + ' seconds');\n"
     ],
     "language": "python",
     "metadata": {},
     "outputs": [],
     "prompt_number": 54
    },
    {
     "cell_type": "code",
     "collapsed": false,
     "input": [
      "hostname = 'ec2-54-161-160-99.compute-1.amazonaws.com'\n",
      "port = 8753\n",
      "connection = myria.MyriaConnection(hostname=hostname, port=port)"
     ],
     "language": "python",
     "metadata": {},
     "outputs": [],
     "prompt_number": 76
    },
    {
     "cell_type": "code",
     "collapsed": false,
     "input": [
      "# Parameters of experiment\n",
      "D = 4\n",
      "K = 7\n",
      "n_iter = 2\n",
      "subprocess.call(\"python ./GMM_Python_Comparison.py %s\" % n_iter, shell=True)"
     ],
     "language": "python",
     "metadata": {},
     "outputs": [
      {
       "metadata": {},
       "output_type": "pyout",
       "prompt_number": 47,
       "text": [
        "0"
       ]
      }
     ],
     "prompt_number": 47
    },
    {
     "cell_type": "code",
     "collapsed": false,
     "input": [
      "# Upload the test data\n",
      "subprocess.call(upload_string(\"PointsOnly\"), shell=True)\n",
      "subprocess.call(upload_string(\"ComponentsOnly\"), shell=True)\n",
      "subprocess.call(upload_string(\"ExpectedComponents\"), shell=True)\n",
      "subprocess.call(upload_string(\"ExpectedPoints\"), shell=True)"
     ],
     "language": "python",
     "metadata": {},
     "outputs": [
      {
       "metadata": {},
       "output_type": "pyout",
       "prompt_number": 48,
       "text": [
        "0"
       ]
      }
     ],
     "prompt_number": 48
    },
    {
     "cell_type": "code",
     "collapsed": false,
     "input": [
      "def query_myria(query_string, args=None):\n",
      "    query = create_json_query(\"./\" + query_string, args)\n",
      "    query_id = submit_query(query)\n",
      "    monitor_status(query_id)"
     ],
     "language": "python",
     "metadata": {},
     "outputs": [],
     "prompt_number": 86
    },
    {
     "cell_type": "code",
     "collapsed": false,
     "input": [
      "query_myria(\"StoreComponents.json\")"
     ],
     "language": "python",
     "metadata": {},
     "outputs": [
      {
       "output_type": "stream",
       "stream": "stdout",
       "text": [
        "Created query 'StoreComponents.json'\n",
        "Query status:"
       ]
      },
      {
       "output_type": "stream",
       "stream": "stdout",
       "text": [
        "\n",
        "\tQuery finished"
       ]
      },
      {
       "output_type": "stream",
       "stream": "stdout",
       "text": [
        "\n",
        "\tRuntime: 0.120905622seconds"
       ]
      },
      {
       "output_type": "stream",
       "stream": "stdout",
       "text": [
        "\n"
       ]
      }
     ],
     "prompt_number": 90
    },
    {
     "cell_type": "code",
     "collapsed": false,
     "input": [
      "start_time = time.time()\n",
      "for i in range(n_iter):\n",
      "    # Join tables\n",
      "    query = create_json_query(\n",
      "        \"/Users/maas/devlocal/myria/jsonQueries/maas_localtest/multidimension/Join4D7K.json\")\n",
      "    query_id = submit_query(query)\n",
      "    monitor_status(query_id)\n",
      "    # EStep Apply\n",
      "    query = create_json_query(\n",
      "        \"/Users/maas/devlocal/myria/jsonQueries/maas_localtest/multidimension/EStepTemplate.json\", args=(D,K))\n",
      "    query_id = submit_query(query)\n",
      "    monitor_status(query_id)\n",
      "\n",
      "    # EStepAggregate\n",
      "    query = create_json_query(\n",
      "        \"/Users/maas/devlocal/myria/jsonQueries/maas_localtest/multidimension/EStepAggTemplate.json\", args=(D,K))\n",
      "    query_id = submit_query(query)\n",
      "    monitor_status(query_id)\n",
      "    # Join tables\n",
      "    query = create_json_query(\n",
      "        \"/Users/maas/devlocal/myria/jsonQueries/maas_localtest/multidimension/Join4D7K.json\")\n",
      "    query_id = submit_query(query)\n",
      "    monitor_status(query_id)\n",
      "    # MStepAggregate\n",
      "    query = create_json_query(\n",
      "        \"/Users/maas/devlocal/myria/jsonQueries/maas_localtest/multidimension/MStepTemplate.json\", args=(1+D+K,D,K,1+D+K))\n",
      "    query_id = submit_query(query)\n",
      "    monitor_status(query_id)\n",
      "end_time = time.time()\n",
      "print \"Total time taken: \" + str(end_time - start_time) + \" seconds.\""
     ],
     "language": "python",
     "metadata": {},
     "outputs": [
      {
       "output_type": "stream",
       "stream": "stdout",
       "text": [
        "Created query 'Join4D7K.json'\n",
        "Query status:"
       ]
      },
      {
       "output_type": "stream",
       "stream": "stdout",
       "text": [
        "\n",
        "\tSUCCESS"
       ]
      },
      {
       "output_type": "stream",
       "stream": "stdout",
       "text": [
        "\n",
        "\tQuery finished\n",
        "\tRuntime: 2.897821seconds\n",
        "Created query 'EStepTemplate.json'\n",
        "Query status:\n",
        "\tSUCCESS"
       ]
      },
      {
       "output_type": "stream",
       "stream": "stdout",
       "text": [
        "\n",
        "\tQuery finished\n",
        "\tRuntime: 3.548398seconds\n",
        "Created query 'EStepAggTemplate.json'\n",
        "Query status:"
       ]
      },
      {
       "output_type": "stream",
       "stream": "stdout",
       "text": [
        "\n",
        "\tSUCCESS"
       ]
      },
      {
       "output_type": "stream",
       "stream": "stdout",
       "text": [
        "\n",
        "\tQuery finished\n",
        "\tRuntime: 1.424468seconds\n",
        "Created query 'Join4D7K.json'\n",
        "Query status:"
       ]
      },
      {
       "output_type": "stream",
       "stream": "stdout",
       "text": [
        "\n",
        "\tSUCCESS"
       ]
      },
      {
       "output_type": "stream",
       "stream": "stdout",
       "text": [
        "\n",
        "\tQuery finished\n",
        "\tRuntime: 2.810951seconds\n",
        "Created query 'MStepTemplate.json'\n",
        "Query status:\n",
        "\tSUCCESS"
       ]
      },
      {
       "output_type": "stream",
       "stream": "stdout",
       "text": [
        "\n",
        "\tQuery finished\n",
        "\tRuntime: 1.836469seconds\n",
        "Created query 'Join4D7K.json'\n",
        "Query status:\n",
        "\tSUCCESS"
       ]
      },
      {
       "output_type": "stream",
       "stream": "stdout",
       "text": [
        "\n",
        "\tQuery finished\n",
        "\tRuntime: 2.655099seconds\n",
        "Created query 'EStepTemplate.json'\n",
        "Query status:\n",
        "\tSUCCESS"
       ]
      },
      {
       "output_type": "stream",
       "stream": "stdout",
       "text": [
        "\n",
        "\tQuery finished\n",
        "\tRuntime: 3.562764seconds\n",
        "Created query 'EStepAggTemplate.json'\n",
        "Query status:"
       ]
      },
      {
       "output_type": "stream",
       "stream": "stdout",
       "text": [
        "\n",
        "\tSUCCESS"
       ]
      },
      {
       "output_type": "stream",
       "stream": "stdout",
       "text": [
        "\n",
        "\tQuery finished\n",
        "\tRuntime: 1.37251seconds\n",
        "Created query 'Join4D7K.json'\n",
        "Query status:"
       ]
      },
      {
       "output_type": "stream",
       "stream": "stdout",
       "text": [
        "\n",
        "\tSUCCESS"
       ]
      },
      {
       "output_type": "stream",
       "stream": "stdout",
       "text": [
        "\n",
        "\tQuery finished\n",
        "\tRuntime: 2.643222seconds\n",
        "Created query 'MStepTemplate.json'\n",
        "Query status:\n",
        "\tSUCCESS"
       ]
      },
      {
       "output_type": "stream",
       "stream": "stdout",
       "text": [
        "\n",
        "\tQuery finished\n",
        "\tRuntime: 1.495387seconds\n",
        "Total time taken: 29.0565900803 seconds.\n"
       ]
      }
     ],
     "prompt_number": 60
    },
    {
     "cell_type": "code",
     "collapsed": false,
     "input": [],
     "language": "python",
     "metadata": {},
     "outputs": []
    },
    {
     "cell_type": "code",
     "collapsed": false,
     "input": [
      "# Compare results\n",
      "query = create_json_query(\n",
      "    \"/Users/maas/devlocal/myria/jsonQueries/maas_localtest/CompareComponents4D7K.json\")\n",
      "query_id = submit_query(query)\n",
      "monitor_status(query_id)\n"
     ],
     "language": "python",
     "metadata": {},
     "outputs": [
      {
       "output_type": "stream",
       "stream": "stdout",
       "text": [
        "Created query 'CompareComponents4D7K.json'\n",
        "Query status:"
       ]
      },
      {
       "output_type": "stream",
       "stream": "stdout",
       "text": [
        "\n",
        "\tRUNNING\n",
        "\tSUCCESS"
       ]
      },
      {
       "output_type": "stream",
       "stream": "stdout",
       "text": [
        "\n"
       ]
      }
     ],
     "prompt_number": 50
    },
    {
     "cell_type": "code",
     "collapsed": false,
     "input": [
      "workers = connection.workers()\n",
      "print \"worker 0: \" + workers['1']\n",
      "print \"worker 1: \" + workers['2']\n",
      "print \"worker 2: \" + workers['3']\n",
      "print '\\n'\n"
     ],
     "language": "python",
     "metadata": {},
     "outputs": [
      {
       "output_type": "stream",
       "stream": "stdout",
       "text": [
        "worker 0: ec2-54-158-76-119.compute-1.amazonaws.com:9001\n",
        "worker 1: ec2-54-161-239-96.compute-1.amazonaws.com:9001\n"
       ]
      },
      {
       "ename": "KeyError",
       "evalue": "'3'",
       "output_type": "pyerr",
       "traceback": [
        "\u001b[0;31m---------------------------------------------------------------------------\u001b[0m\n\u001b[0;31mKeyError\u001b[0m                                  Traceback (most recent call last)",
        "\u001b[0;32m<ipython-input-77-1d8f05b40d8c>\u001b[0m in \u001b[0;36m<module>\u001b[0;34m()\u001b[0m\n\u001b[1;32m      2\u001b[0m \u001b[0;32mprint\u001b[0m \u001b[0;34m\"worker 0: \"\u001b[0m \u001b[0;34m+\u001b[0m \u001b[0mworkers\u001b[0m\u001b[0;34m[\u001b[0m\u001b[0;34m'1'\u001b[0m\u001b[0;34m]\u001b[0m\u001b[0;34m\u001b[0m\u001b[0m\n\u001b[1;32m      3\u001b[0m \u001b[0;32mprint\u001b[0m \u001b[0;34m\"worker 1: \"\u001b[0m \u001b[0;34m+\u001b[0m \u001b[0mworkers\u001b[0m\u001b[0;34m[\u001b[0m\u001b[0;34m'2'\u001b[0m\u001b[0;34m]\u001b[0m\u001b[0;34m\u001b[0m\u001b[0m\n\u001b[0;32m----> 4\u001b[0;31m \u001b[0;32mprint\u001b[0m \u001b[0;34m\"worker 2: \"\u001b[0m \u001b[0;34m+\u001b[0m \u001b[0mworkers\u001b[0m\u001b[0;34m[\u001b[0m\u001b[0;34m'3'\u001b[0m\u001b[0;34m]\u001b[0m\u001b[0;34m\u001b[0m\u001b[0m\n\u001b[0m\u001b[1;32m      5\u001b[0m \u001b[0;32mprint\u001b[0m \u001b[0;34m'\\n'\u001b[0m\u001b[0;34m\u001b[0m\u001b[0m\n",
        "\u001b[0;31mKeyError\u001b[0m: '3'"
       ]
      }
     ],
     "prompt_number": 77
    },
    {
     "cell_type": "code",
     "collapsed": false,
     "input": [],
     "language": "python",
     "metadata": {},
     "outputs": []
    }
   ],
   "metadata": {}
  }
 ]
}